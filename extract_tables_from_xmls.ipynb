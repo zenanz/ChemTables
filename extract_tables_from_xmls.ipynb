{
 "cells": [
  {
   "cell_type": "code",
   "execution_count": null,
   "id": "fc7d97b2",
   "metadata": {},
   "outputs": [],
   "source": [
    "import os\n",
    "import re\n",
    "import json\n",
    "import copy\n",
    "import nltk\n",
    "import numpy as np\n",
    "from tqdm.notebook import tqdm\n",
    "from bs4 import BeautifulSoup"
   ]
  },
  {
   "cell_type": "code",
   "execution_count": null,
   "id": "9920c747",
   "metadata": {},
   "outputs": [],
   "source": [
    "'''\n",
    "Change this to the root directory of your patent collection. \n",
    "You will need to make sure that each folder contains the <Patent_ID>.xml of the patent document\n",
    "'''\n",
    "xml_root = 'Table_files/Tables' "
   ]
  },
  {
   "cell_type": "code",
   "execution_count": null,
   "id": "ca97a9fc",
   "metadata": {},
   "outputs": [],
   "source": [
    "def parse_table(table):\n",
    "    \n",
    "    def remove_spaces(cell):\n",
    "        return re.sub('\\s+', '', cell)\n",
    "    \n",
    "    \n",
    "    rows = table.find_all('row')\n",
    "    extracted_table = []\n",
    "    meta_data = {}\n",
    "    meta_data['tid'] = table['id']\n",
    "    \n",
    "    chemistry_list = []\n",
    "    for i, r in enumerate(rows):\n",
    "        extracted_row = []\n",
    "        for j, entry in enumerate(r.find_all('entry')):\n",
    "            if entry.find_all('chemistry') != 0:\n",
    "                for chemistry in entry.find_all('chemistry'):\n",
    "                    chemistry_list.append((i, j, str(chemistry)))\n",
    "            \n",
    "            if entry.has_attr('namest'):\n",
    "#                 print(entry)\n",
    "                try:\n",
    "                    if entry['namest'].startswith('col'):\n",
    "                        start = int(entry['namest'][3:])\n",
    "                        end = int(entry['nameend'][3:])\n",
    "                    elif entry['namest'] == 'offset':\n",
    "                        start = len(extracted_row)\n",
    "                        end = int(entry['nameend'])\n",
    "                    else:\n",
    "                        start = int(entry['namest'])\n",
    "                        end = int(entry['nameend'])\n",
    "                except:\n",
    "                    print(table)\n",
    "                    \n",
    "                span = end - start + 1\n",
    "                extracted_row.append(remove_spaces(entry.get_text()))\n",
    "                for i in range(1, span):\n",
    "                    extracted_row.append('')\n",
    "            else:\n",
    "                extracted_row.append(remove_spaces(entry.get_text()))\n",
    "                \n",
    "        extracted_table.append(extracted_row)\n",
    "    meta_data['chemistry'] = chemistry_list\n",
    "        \n",
    "    if len(table.find_all('title')) != 0:\n",
    "        titles = [i.get_text() for i in table.find_all('title')]\n",
    "        meta_data['titles'] = titles\n",
    "        \n",
    "    if len(table.find_all('thead')) != 0:\n",
    "        header_list = []\n",
    "        t = table.find_all('table')[0]\n",
    "        childs = t.findChildren()\n",
    "        child_names = [c.name for c in childs]\n",
    "\n",
    "        row_count = 0\n",
    "        in_thead = 0\n",
    "        start = 0\n",
    "        end = 0\n",
    "\n",
    "        for i, c in enumerate(child_names):\n",
    "            if c == 'row':\n",
    "                row_count += 1\n",
    "            # if start of thead element\n",
    "            if c == 'thead':\n",
    "                start = row_count\n",
    "                in_thead = 1\n",
    "            # if thead ends or table ends\n",
    "            if (c == 'tbody' or i == len(child_names) - 1) and  in_thead == 1:\n",
    "                end = row_count\n",
    "                header_list.append((start, end))\n",
    "                in_thead = 0\n",
    "                start, end = 0, 0\n",
    "        meta_data['thead'] = header_list\n",
    "    \n",
    "    return extracted_table, meta_data"
   ]
  },
  {
   "cell_type": "code",
   "execution_count": null,
   "id": "d2464646",
   "metadata": {},
   "outputs": [],
   "source": [
    "def extract_all(root_dir):\n",
    "    tables = []\n",
    "    xml_list = os.listdir(root_dir)\n",
    "    for pid in tqdm(xml_list):\n",
    "        xml_path = os.path.join(xml_root, pid, pid+'.xml')\n",
    "        if not os.path.exists(xml_path):\n",
    "            continue\n",
    "        ts = BeautifulSoup('\\n'.join(open(xml_path, 'r').read().split('\\n')[1:]), 'xml').find_all('tables')\n",
    "        for t in ts:\n",
    "            text, meta_data = parse_table(t)\n",
    "            tables.append({\n",
    "                'pid': pid,\n",
    "                'tid': meta_data['tid'],\n",
    "                'meta_data': meta_data,\n",
    "                'data': text,\n",
    "            })\n",
    "    \n",
    "    return tables"
   ]
  },
  {
   "cell_type": "code",
   "execution_count": null,
   "id": "fbb18e84",
   "metadata": {
    "scrolled": false
   },
   "outputs": [],
   "source": [
    "tables = extract_all(xml_root)"
   ]
  },
  {
   "cell_type": "code",
   "execution_count": null,
   "id": "58d85bbc",
   "metadata": {},
   "outputs": [],
   "source": [
    "json.dump(tables, open('extracted_tables.json', 'w+'))"
   ]
  },
  {
   "cell_type": "code",
   "execution_count": null,
   "id": "28635726",
   "metadata": {},
   "outputs": [],
   "source": []
  }
 ],
 "metadata": {
  "kernelspec": {
   "display_name": "torch",
   "language": "python",
   "name": "torch"
  },
  "language_info": {
   "codemirror_mode": {
    "name": "ipython",
    "version": 3
   },
   "file_extension": ".py",
   "mimetype": "text/x-python",
   "name": "python",
   "nbconvert_exporter": "python",
   "pygments_lexer": "ipython3",
   "version": "3.8.10"
  }
 },
 "nbformat": 4,
 "nbformat_minor": 5
}
